{
 "cells": [
  {
   "cell_type": "code",
   "execution_count": 14,
   "metadata": {},
   "outputs": [
    {
     "ename": "AppreciationMessage",
     "evalue": "Enjoy your meal with 2965",
     "output_type": "error",
     "traceback": [
      "\u001b[0;31m---------------------------------------------------------------------------\u001b[0m",
      "\u001b[0;31mAppreciationMessage\u001b[0m                       Traceback (most recent call last)",
      "\u001b[1;32m/Users/luyu/Desktop/MASTER-AIRE/PYTHON/Python-x-Grasshopper-Basics/main.ipynb Cell 1\u001b[0m line \u001b[0;36m3\n\u001b[1;32m      <a href='vscode-notebook-cell:/Users/luyu/Desktop/MASTER-AIRE/PYTHON/Python-x-Grasshopper-Basics/main.ipynb#W0sZmlsZQ%3D%3D?line=0'>1</a>\u001b[0m \u001b[39mfrom\u001b[39;00m \u001b[39mpython_folder\u001b[39;00m\u001b[39m.\u001b[39;00m\u001b[39morder\u001b[39;00m \u001b[39mimport\u001b[39;00m order\n\u001b[0;32m----> <a href='vscode-notebook-cell:/Users/luyu/Desktop/MASTER-AIRE/PYTHON/Python-x-Grasshopper-Basics/main.ipynb#W0sZmlsZQ%3D%3D?line=2'>3</a>\u001b[0m \u001b[39mprint\u001b[39m(order(\u001b[39m\"\u001b[39;49m\u001b[39mhamburger\u001b[39;49m\u001b[39m\"\u001b[39;49m, \u001b[39m\"\u001b[39;49m\u001b[39mcheese burger\u001b[39;49m\u001b[39m\"\u001b[39;49m, \u001b[39m\"\u001b[39;49m\u001b[39mlemonade\u001b[39;49m\u001b[39m\"\u001b[39;49m, \u001b[39m\"\u001b[39;49m\u001b[39mvegan combo\u001b[39;49m\u001b[39m\"\u001b[39;49m, \u001b[39m\"\u001b[39;49m\u001b[39mcheesy combo\u001b[39;49m\u001b[39m\"\u001b[39;49m))\n",
      "File \u001b[0;32m~/Desktop/MASTER-AIRE/PYTHON/Python-x-Grasshopper-Basics/python_folder/order.py:113\u001b[0m, in \u001b[0;36morder\u001b[0;34m(*args)\u001b[0m\n\u001b[1;32m    111\u001b[0m         \u001b[39mprint\u001b[39m(\u001b[39mf\u001b[39m\u001b[39m'\u001b[39m\u001b[39mSorry but \u001b[39m\u001b[39m{\u001b[39;00mitem\u001b[39m}\u001b[39;00m\u001b[39m is not in our menu\u001b[39m\u001b[39m'\u001b[39m)\n\u001b[1;32m    112\u001b[0m \u001b[39mif\u001b[39;00m totalcalories \u001b[39m>\u001b[39m \u001b[39m2000\u001b[39m:\n\u001b[0;32m--> 113\u001b[0m     \u001b[39mraise\u001b[39;00m AppreciationMessage(totalcalories)\n\u001b[1;32m    114\u001b[0m x \u001b[39m=\u001b[39m datetime\u001b[39m.\u001b[39mdatetime\u001b[39m.\u001b[39mnow()\n\u001b[1;32m    115\u001b[0m \u001b[39mprint\u001b[39m(\u001b[39m\"\u001b[39m\u001b[39mOrder \u001b[39m\u001b[39m\"\u001b[39m \u001b[39m+\u001b[39m \u001b[39mstr\u001b[39m(x\u001b[39m.\u001b[39mday) \u001b[39m+\u001b[39m \u001b[39m\"\u001b[39m\u001b[39m/\u001b[39m\u001b[39m\"\u001b[39m \u001b[39m+\u001b[39m \u001b[39mstr\u001b[39m(x\u001b[39m.\u001b[39mmonth) \u001b[39m+\u001b[39m \u001b[39m\"\u001b[39m\u001b[39m/\u001b[39m\u001b[39m\"\u001b[39m \u001b[39m+\u001b[39m \u001b[39mstr\u001b[39m(x\u001b[39m.\u001b[39myear) \u001b[39m+\u001b[39m \u001b[39m'\u001b[39m\u001b[39m:\u001b[39m\u001b[39m'\u001b[39m) \n",
      "\u001b[0;31mAppreciationMessage\u001b[0m: Enjoy your meal with 2965"
     ]
    }
   ],
   "source": [
    "from python_folder.order import order\n",
    "\n",
    "print(order(\"hamburger\", \"cheese burger\", \"lemonade\", \"vegan combo\", \"cheesy combo\"))"
   ]
  }
 ],
 "metadata": {
  "kernelspec": {
   "display_name": "Python 3",
   "language": "python",
   "name": "python3"
  },
  "language_info": {
   "codemirror_mode": {
    "name": "ipython",
    "version": 3
   },
   "file_extension": ".py",
   "mimetype": "text/x-python",
   "name": "python",
   "nbconvert_exporter": "python",
   "pygments_lexer": "ipython3",
   "version": "3.11.5"
  }
 },
 "nbformat": 4,
 "nbformat_minor": 2
}
